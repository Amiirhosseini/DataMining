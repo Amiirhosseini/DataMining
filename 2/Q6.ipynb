{
 "cells": [
  {
   "attachments": {},
   "cell_type": "markdown",
   "metadata": {},
   "source": [
    "## Amirreza Hosseini\n",
    "**9820363**\n",
    "\n",
    "Introduction to Data Mining\n",
    "HomeWork 2 <br>\n",
    "Q6"
   ]
  },
  {
   "cell_type": "code",
   "execution_count": 2,
   "metadata": {},
   "outputs": [],
   "source": [
    "import pandas as pd"
   ]
  },
  {
   "attachments": {},
   "cell_type": "markdown",
   "metadata": {},
   "source": [
    "0-read the csv file and store it in a dataframe and show the Data frame <br/>\n",
    "Using leave one out method to split the test and train data <br/>\n",
    "Then using linear SVM as a model for prediction and plot the confusion matrix"
   ]
  },
  {
   "cell_type": "code",
   "execution_count": 3,
   "metadata": {},
   "outputs": [
    {
     "data": {
      "text/html": [
       "<div>\n",
       "<style scoped>\n",
       "    .dataframe tbody tr th:only-of-type {\n",
       "        vertical-align: middle;\n",
       "    }\n",
       "\n",
       "    .dataframe tbody tr th {\n",
       "        vertical-align: top;\n",
       "    }\n",
       "\n",
       "    .dataframe thead th {\n",
       "        text-align: right;\n",
       "    }\n",
       "</style>\n",
       "<table border=\"1\" class=\"dataframe\">\n",
       "  <thead>\n",
       "    <tr style=\"text-align: right;\">\n",
       "      <th></th>\n",
       "      <th>Class</th>\n",
       "      <th>Petal length</th>\n",
       "      <th>Sepal length</th>\n",
       "      <th>Sepal width</th>\n",
       "      <th>Petal width</th>\n",
       "    </tr>\n",
       "  </thead>\n",
       "  <tbody>\n",
       "    <tr>\n",
       "      <th>0</th>\n",
       "      <td>1</td>\n",
       "      <td>51</td>\n",
       "      <td>35</td>\n",
       "      <td>14</td>\n",
       "      <td>2</td>\n",
       "    </tr>\n",
       "    <tr>\n",
       "      <th>1</th>\n",
       "      <td>1</td>\n",
       "      <td>49</td>\n",
       "      <td>30</td>\n",
       "      <td>14</td>\n",
       "      <td>2</td>\n",
       "    </tr>\n",
       "    <tr>\n",
       "      <th>2</th>\n",
       "      <td>1</td>\n",
       "      <td>47</td>\n",
       "      <td>32</td>\n",
       "      <td>13</td>\n",
       "      <td>2</td>\n",
       "    </tr>\n",
       "    <tr>\n",
       "      <th>3</th>\n",
       "      <td>1</td>\n",
       "      <td>46</td>\n",
       "      <td>31</td>\n",
       "      <td>15</td>\n",
       "      <td>2</td>\n",
       "    </tr>\n",
       "    <tr>\n",
       "      <th>4</th>\n",
       "      <td>1</td>\n",
       "      <td>50</td>\n",
       "      <td>36</td>\n",
       "      <td>14</td>\n",
       "      <td>2</td>\n",
       "    </tr>\n",
       "  </tbody>\n",
       "</table>\n",
       "</div>"
      ],
      "text/plain": [
       "   Class  Petal length  Sepal length  Sepal width  Petal width\n",
       "0      1            51            35           14            2\n",
       "1      1            49            30           14            2\n",
       "2      1            47            32           13            2\n",
       "3      1            46            31           15            2\n",
       "4      1            50            36           14            2"
      ]
     },
     "execution_count": 3,
     "metadata": {},
     "output_type": "execute_result"
    }
   ],
   "source": [
    "iris = pd.read_csv('./iris.csv', sep=',')\n",
    "\n",
    "iris.drop(\"Unnamed: 0\", axis=1, inplace=True)\n",
    "\n",
    "iris.head()"
   ]
  },
  {
   "cell_type": "code",
   "execution_count": 4,
   "metadata": {},
   "outputs": [
    {
     "name": "stdout",
     "output_type": "stream",
     "text": [
      "(120, 4)\n",
      "(30, 4)\n",
      "(120,)\n",
      "(30,)\n"
     ]
    }
   ],
   "source": [
    "from sklearn.model_selection import train_test_split\n",
    "from sklearn.model_selection import LeaveOneOut\n",
    "import matplotlib.pyplot as plt\n",
    "%matplotlib inline\n",
    "import seaborn as sns\n",
    "\n",
    "Y=iris['Class']\n",
    "X=iris.drop('Class',axis=1)\n",
    "\n",
    "# Split the data into 80% training and 20% testing\n",
    "X_train, X_test, Y_train, Y_test = train_test_split(X, Y, test_size=0.2, random_state=0)    \n",
    "\n",
    "#shape of the data\n",
    "print(X_train.shape)\n",
    "print(X_test.shape)\n",
    "print(Y_train.shape)\n",
    "print(Y_test.shape)"
   ]
  },
  {
   "cell_type": "code",
   "execution_count": 5,
   "metadata": {},
   "outputs": [],
   "source": [
    "#linear svm classifier\n",
    "from sklearn.svm import SVC\n",
    "\n",
    "# Create a svm Classifier\n",
    "clf = SVC(kernel='linear') # Linear Kernel\n",
    "\n",
    "\n",
    "from sklearn.metrics import accuracy_score, precision_score\n",
    "train_accuracy = []\n",
    "train_precision = []\n",
    "\n",
    "# Train the model using the leave one out training sets\n",
    "leave_one_out = LeaveOneOut()\n",
    "for train_index, test_index in leave_one_out.split(X_train):\n",
    "    X_train1, X_test1 = X_train.iloc[train_index], X_train.iloc[test_index]\n",
    "    Y_train1, Y_test1 = Y_train.iloc[train_index], Y_train.iloc[test_index]\n",
    "    clf.fit(X_train1, Y_train1)\n",
    "    Y_pred_train = clf.predict(X_train1)\n",
    "    train_accuracy.append(accuracy_score(Y_train1, Y_pred_train)) \n",
    "    train_precision.append(precision_score(Y_train1, Y_pred_train, average='weighted'))\n",
    "       "
   ]
  },
  {
   "cell_type": "code",
   "execution_count": 6,
   "metadata": {},
   "outputs": [
    {
     "name": "stdout",
     "output_type": "stream",
     "text": [
      "Accuracy of model for training data:  0.9753501400560197\n",
      "Precision of model for training data:  0.9755004370862833\n",
      "Accuracy of model for testing data:  1.0\n",
      "Precision of model for testing data:  1.0\n"
     ]
    }
   ],
   "source": [
    "#calculate average accuracy and precision of model for training data\n",
    "print(\"Accuracy of model for training data: \",sum(train_accuracy)/len(train_accuracy))\n",
    "print(\"Precision of model for training data: \",sum(train_precision)/len(train_precision))\n",
    "\n",
    "#calculate accuracy of model for testing data\n",
    "Y_pred_test = clf.predict(X_test)\n",
    "print(\"Accuracy of model for testing data: \",accuracy_score(Y_test,Y_pred_test))\n",
    "print(\"Precision of model for testing data: \",precision_score(Y_test,Y_pred_test,average='weighted'))"
   ]
  },
  {
   "cell_type": "code",
   "execution_count": 7,
   "metadata": {},
   "outputs": [
    {
     "data": {
      "image/png": "[encoded data removed]",
      "text/plain": [
       "<Figure size 432x288 with 2 Axes>"
      ]
     },
     "metadata": {
      "needs_background": "light"
     },
     "output_type": "display_data"
    }
   ],
   "source": [
    "from sklearn.metrics import confusion_matrix\n",
    "\n",
    "def plot_confusion_matrix(y,y_predict):\n",
    "    cm = confusion_matrix(y, y_predict)\n",
    "    ax= plt.subplot()\n",
    "    sns.heatmap(cm, cmap='coolwarm',annot=True,fmt = \" \", ax = ax);\n",
    "    ax.set_xlabel('Predicted labels')\n",
    "    ax.set_ylabel('True labels')\n",
    "    ax.set_title('Confusion Matrix');\n",
    "    ax.xaxis.set_ticklabels(['Iris-setosa', 'Iris-versicolor', 'Iris-virginica'])\n",
    "\n",
    "#show confusion matrix for testing data\n",
    "plot_confusion_matrix(Y_test,Y_pred_test)"
   ]
  },
  {
   "attachments": {},
   "cell_type": "markdown",
   "metadata": {},
   "source": [
    "The confusion matrix shows the best result for all of the three labels of iris categories.<br/>\n",
    "The model predicted all of the cases in a correct way."
   ]
  },
  {
   "attachments": {},
   "cell_type": "markdown",
   "metadata": {},
   "source": [
    "1- SVM kernel with polynomial"
   ]
  },
  {
   "cell_type": "code",
   "execution_count": 21,
   "metadata": {},
   "outputs": [
    {
     "data": {
      "text/plain": [
       "Text(0.5, 1.0, 'Miscalssification Error for each Degree')"
      ]
     },
     "execution_count": 21,
     "metadata": {},
     "output_type": "execute_result"
    },
    {
     "data": {
      "image/png": "[encoded data removed]",
      "text/plain": [
       "<Figure size 432x288 with 1 Axes>"
      ]
     },
     "metadata": {
      "needs_background": "light"
     },
     "output_type": "display_data"
    }
   ],
   "source": [
    "#polynomial svm classifier\n",
    "from sklearn.svm import SVC\n",
    "\n",
    "errors=list()\n",
    "\n",
    "for i in range(1,10):\n",
    "    svc = SVC(kernel='poly', degree=i)\n",
    "    #find misclassification error\n",
    "    svc.fit(X_train, Y_train)\n",
    "    Y_pred_test = svc.predict(X_test)\n",
    "    errors.append(1-accuracy_score(Y_test,Y_pred_test))\n",
    "\n",
    "sns.lineplot(errors)\n",
    "plt.ylabel('Error')\n",
    "plt.xlabel('Degree of Polynomial')\n",
    "plt.title('Miscalssification Error for each Degree')"
   ]
  },
  {
   "attachments": {},
   "cell_type": "markdown",
   "metadata": {},
   "source": [
    "As the chart shows, The classification error raises directly as the degree of polynomial increases."
   ]
  },
  {
   "attachments": {},
   "cell_type": "markdown",
   "metadata": {},
   "source": [
    "2- hyper parameters tunning : find best degree by grid search"
   ]
  },
  {
   "cell_type": "code",
   "execution_count": 28,
   "metadata": {},
   "outputs": [
    {
     "name": "stdout",
     "output_type": "stream",
     "text": [
      "Best Parameters : {'degree': 5, 'kernel': 'poly'}\n",
      "GridSearch Score : 95.83 %\n",
      "SVC Model Accuracy: 96.67 %\n"
     ]
    }
   ],
   "source": [
    "from sklearn.model_selection import GridSearchCV\n",
    "\n",
    "#svm parameters degree in range 1-10\n",
    "svc_params = {'degree':range(1,10),'kernel':['poly']}\n",
    "\n",
    "svc_cv = GridSearchCV(SVC(),svc_params,cv=10)\n",
    "svc_cv.fit(X_train, Y_train)\n",
    "print(\"Best Parameters :\",svc_cv.best_params_)\n",
    "print(\"GridSearch Score :\",(svc_cv.best_score_*100).round(2),'%')\n",
    "\n",
    "svc.fit(X_train,Y_train)\n",
    "Y_pred_test = svc.predict(X_test)\n",
    "accuracy = accuracy_score(Y_test, Y_pred_test)\n",
    "print('SVC Model Accuracy:',(accuracy*100).round(2),'%')"
   ]
  },
  {
   "cell_type": "code",
   "execution_count": 29,
   "metadata": {},
   "outputs": [
    {
     "data": {
      "image/png": "[encoded data removed]",
      "text/plain": [
       "<Figure size 432x288 with 2 Axes>"
      ]
     },
     "metadata": {
      "needs_background": "light"
     },
     "output_type": "display_data"
    }
   ],
   "source": [
    "#show confusion matrix for testing data\n",
    "plot_confusion_matrix(Y_test,Y_pred_test)"
   ]
  }
 ],
 "metadata": {
  "kernelspec": {
   "display_name": "Python 3",
   "language": "python",
   "name": "python3"
  },
  "language_info": {
   "codemirror_mode": {
    "name": "ipython",
    "version": 3
   },
   "file_extension": ".py",
   "mimetype": "text/x-python",
   "name": "python",
   "nbconvert_exporter": "python",
   "pygments_lexer": "ipython3",
   "version": "3.10.4"
  },
  "orig_nbformat": 4,
  "vscode": {
   "interpreter": {
    "hash": "f56a879a86e4cb184598e0f1a037d80ac9bf804487d5cf89fe943b503a6b43f5"
   }
  }
 },
 "nbformat": 4,
 "nbformat_minor": 2
}
